{
 "cells": [
  {
   "cell_type": "code",
   "execution_count": 1,
   "id": "e96a968b",
   "metadata": {},
   "outputs": [],
   "source": [
    "import torch\n",
    "import torch.nn as nn\n",
    "import torchvision\n",
    "import torch.optim as optim\n",
    "from torchvision import datasets, transforms\n",
    "from torch.utils.data import DataLoader, random_split\n",
    "import matplotlib.pyplot as plt\n",
    "import numpy as np\n",
    "import pickle\n",
    "from collections import Counter\n",
    "from collections import defaultdict\n",
    "import time"
   ]
  },
  {
   "cell_type": "code",
   "execution_count": 2,
   "id": "267311e9",
   "metadata": {},
   "outputs": [
    {
     "data": {
      "text/plain": [
       "device(type='cuda')"
      ]
     },
     "execution_count": 2,
     "metadata": {},
     "output_type": "execute_result"
    }
   ],
   "source": [
    "#  Set device\n",
    "device = torch.device(\"cuda\" if torch.cuda.is_available() else \"cpu\")\n",
    "device"
   ]
  },
  {
   "cell_type": "code",
   "execution_count": 3,
   "id": "0faf1edd",
   "metadata": {},
   "outputs": [],
   "source": [
    "#we just use to calculate mean and std values for the images:\n",
    "def calculate_mean_std_images(train_data):\n",
    "    sum_channels_pixels = np.zeros(3,)#np.array([0.,0.,0.])\n",
    "    sum_square_channels_pixels = np.zeros(3,)\n",
    "    total_pixels  = 0\n",
    "    for img, _  in train_data:\n",
    "        #img is PIL.Image instance ==>np array\n",
    "        Img = np.asarray(img)/255.0\n",
    "        total_pixels +=np.prod(Img.shape[0:-1])\n",
    "        #calculate per channel for each array\n",
    "        sum_channels_pixels += Img.sum(axis=(0,1))\n",
    "        sum_square_channels_pixels += (Img **2).sum(axis=(0,1))\n",
    "    mean = sum_channels_pixels / total_pixels\n",
    "    #Var(X)=E[X ^2]−(E[X])^2\n",
    "    var = (sum_square_channels_pixels /sum_channels_pixels) - (mean **2)\n",
    "    std = np.sqrt(var)\n",
    "    return mean, std"
   ]
  },
  {
   "cell_type": "code",
   "execution_count": 4,
   "id": "7d9ea3d8",
   "metadata": {},
   "outputs": [
    {
     "name": "stdout",
     "output_type": "stream",
     "text": [
      "the mean per channel for training images: [0.73255072 0.50281198 0.47917073]\n",
      "the std per channel for training images: [0.51907074 0.61126614 0.61097012]\n"
     ]
    }
   ],
   "source": [
    "#calculate the mean and std:\n",
    "Parent_Path = 'D:\\\\Cellula Technologies\\\\Project_1\\\\Teeth DataSet\\\\'\n",
    "train_data = torchvision.datasets.ImageFolder(root = Parent_Path +'Training')\n",
    "m , s = calculate_mean_std_images(train_data)\n",
    "print(f'the mean per channel for training images: {m}')\n",
    "print(f'the std per channel for training images: {s}')\n",
    "#note: it takes a lot of time to calcalate but i just run one time\n",
    "#future work: we can deal with ToTensor"
   ]
  },
  {
   "cell_type": "code",
   "execution_count": 5,
   "id": "55e731df",
   "metadata": {},
   "outputs": [
    {
     "data": {
      "text/plain": [
       "['otherFiles', 'Testing', 'Training', 'Validation']"
      ]
     },
     "execution_count": 5,
     "metadata": {},
     "output_type": "execute_result"
    }
   ],
   "source": [
    "import os\n",
    "os.listdir(Parent_Path)"
   ]
  },
  {
   "cell_type": "code",
   "execution_count": 6,
   "id": "fe20ad9b",
   "metadata": {},
   "outputs": [],
   "source": [
    "# . Define transforms\n",
    "Parent_Path = 'D:\\\\Cellula Technologies\\\\Project_1\\\\Teeth DataSet\\\\'\n",
    "basic_tranfrom= transforms.Compose([\n",
    "    transforms.ToTensor(),\n",
    "    transforms.Normalize(m , s)  # mean and std for MNIST\n",
    "])\n",
    "train_transform = transforms.Compose([\n",
    "    #data Augmentation:\n",
    "    transforms.RandomRotation(10),#rotation range [0:40]\n",
    "    transforms.RandomAffine(degrees= 0, translate = (0.2,0.2)),\n",
    "    transforms.RandomHorizontalFlip(), \n",
    "    #transforms.RandomResizedCrop(250, scale = (0.8, 1)),\n",
    "    transforms.ColorJitter(brightness = 0.2, contrast = 0.2, saturation = 0.2),\n",
    "    transforms.ToTensor(),\n",
    "    transforms.Normalize(m , s)  # mean and std for MNIST\n",
    "])\n",
    "\n"
   ]
  },
  {
   "cell_type": "code",
   "execution_count": 7,
   "id": "94d3530f",
   "metadata": {},
   "outputs": [],
   "source": [
    "#load images using ImageFloder: \n",
    "train_data = torchvision.datasets.ImageFolder(root = Parent_Path +'Training',transform=train_transform )\n",
    "validation_data = torchvision.datasets.ImageFolder(root = Parent_Path +'Validation',transform=basic_tranfrom )\n",
    "test_data = torchvision.datasets.ImageFolder(root = Parent_Path +'Testing',transform=basic_tranfrom)"
   ]
  },
  {
   "cell_type": "code",
   "execution_count": 8,
   "id": "9d0ec36e",
   "metadata": {},
   "outputs": [
    {
     "name": "stdout",
     "output_type": "stream",
     "text": [
      "CaS      0\n",
      "CoS      1\n",
      "Gum      2\n",
      "MC      3\n",
      "OC      4\n",
      "OLP      5\n",
      "OT      6\n"
     ]
    }
   ],
   "source": [
    "for k, v in train_data.class_to_idx.items():\n",
    "    print(k , \"    \", v)"
   ]
  },
  {
   "cell_type": "code",
   "execution_count": 9,
   "id": "a244a409",
   "metadata": {},
   "outputs": [],
   "source": [
    "#train_data.class_to_idx\n",
    "labels_count = Counter(train_data.targets)\n",
    "classes_info = {K:  labels_count[numerical_label]  for K , numerical_label in train_data.class_to_idx.items()} "
   ]
  },
  {
   "cell_type": "code",
   "execution_count": 10,
   "id": "642c6ebe",
   "metadata": {},
   "outputs": [
    {
     "data": {
      "text/plain": [
       "{'CaS': 480,\n",
       " 'CoS': 450,\n",
       " 'Gum': 360,\n",
       " 'MC': 540,\n",
       " 'OC': 324,\n",
       " 'OLP': 540,\n",
       " 'OT': 393}"
      ]
     },
     "execution_count": 10,
     "metadata": {},
     "output_type": "execute_result"
    }
   ],
   "source": [
    "classes_info "
   ]
  },
  {
   "cell_type": "code",
   "execution_count": 11,
   "id": "4955035b",
   "metadata": {},
   "outputs": [
    {
     "data": {
      "text/plain": [
       "dict_values([480, 450, 360, 540, 324, 540, 393])"
      ]
     },
     "execution_count": 11,
     "metadata": {},
     "output_type": "execute_result"
    }
   ],
   "source": [
    "classes_info.values()"
   ]
  },
  {
   "cell_type": "code",
   "execution_count": 12,
   "id": "dfcba655",
   "metadata": {},
   "outputs": [
    {
     "data": {
      "image/png": "[encoded data removed]",
      "text/plain": [
       "<Figure size 640x480 with 1 Axes>"
      ]
     },
     "metadata": {},
     "output_type": "display_data"
    }
   ],
   "source": [
    "plt.bar(classes_info.keys(), classes_info.values())\n",
    "plt.show()\n",
    "#try using px for effiencet drawing\n",
    "\n"
   ]
  },
  {
   "cell_type": "code",
   "execution_count": 13,
   "id": "4c9a1229",
   "metadata": {},
   "outputs": [],
   "source": [
    "#convert to dataLoader: \n",
    "train_loader = DataLoader(train_data , batch_size =64 , shuffle = True)\n",
    "val_loader = DataLoader(validation_data, batch_size =64 )\n",
    "test_loader = DataLoader(test_data , batch_size =64 )"
   ]
  },
  {
   "cell_type": "code",
   "execution_count": 14,
   "id": "7a15bc77",
   "metadata": {},
   "outputs": [],
   "source": [
    "\n",
    "#  Define the model\n",
    "#build CNN Architecture: \n",
    "class SimpleCNN(nn.Module):\n",
    "    def __init__(self, n_classes):\n",
    "        super(SimpleCNN, self).__init__()\n",
    "        self.layers = nn.Sequential(\n",
    "            torch.nn.Conv2d(in_channels = 3,out_channels = 256, kernel_size = (3,3), \n",
    "                            stride= 2, padding=1),#[#batch,3,250,250]==> [#batch, 128, 125,125]\n",
    "            torch.nn.LeakyReLU(0.2),\n",
    "            torch.nn.MaxPool2d(kernel_size = 2, stride=2, padding=0), #[#batch, 128, 125,125]===> [#batch,128, 62,62]\n",
    "            \n",
    "            torch.nn.Conv2d(in_channels = 256,out_channels = 128, kernel_size = (3,3), \n",
    "                            stride= 2, padding=1),#[#batch,128, 62,62] ==> [#batch,64, 31,31 ]\n",
    "            torch.nn.LeakyReLU(0.2),\n",
    "            torch.nn.MaxPool2d(kernel_size = 2, stride=2, padding=0),#[#batch,64, 31,31 ]==>[#batch, 64, 15,15]\n",
    "            \n",
    "            torch.nn.Conv2d(in_channels = 128,out_channels = 64, kernel_size = (3,3), \n",
    "                             stride= 1, padding=1) ,#[#batch, 64, 15,15]==> [#batch, 64, 8,8]\n",
    "             torch.nn.MaxPool2d(kernel_size = 2, stride=2, padding=0),#[#batch, 64, 8,8]==> [#batch, 64 , 4.4]\n",
    "             torch.nn.ReLU(),\n",
    "            #flatten to be suiatable for fully conntected neural network\n",
    "            torch.nn.Flatten(),\n",
    "            torch.nn.Linear( in_features = 64*8*8, out_features = 256),\n",
    "            torch.nn.ReLU(),\n",
    "            torch.nn.Linear( in_features = 256, out_features = 256),\n",
    "            torch.nn.ReLU(),\n",
    "            torch.nn.Linear(in_features = 256, out_features = n_classes ),\n",
    "        )\n",
    "        self.output = nn.Softmax(dim=1)\n",
    "\n",
    "    def forward(self, x):\n",
    "        logits = self.layers(x)\n",
    "        predicted = self.output(logits)\n",
    "        return logits , predicted"
   ]
  },
  {
   "cell_type": "code",
   "execution_count": 15,
   "id": "ad1b58c8",
   "metadata": {},
   "outputs": [],
   "source": [
    "#convert the training to a function:\n",
    "def train(  model,\n",
    "            optimizer,\n",
    "            criterion,\n",
    "            device,\n",
    "            dataset_loader,\n",
    "            val_loader,\n",
    "            epochs_,\n",
    "            finished_epochs,\n",
    "            PATH\n",
    "        ):\n",
    "    #training procedure:\n",
    "    history = defaultdict(list)\n",
    "    start_time = time.time()\n",
    "    #for long training peroids:\n",
    "    #if the training intruppted because the session time is gone or any other problem\n",
    "    epochs = epochs_ - finished_epochs\n",
    "    current_epoch = finished_epochs\n",
    "    print(\"The training is strating from epoch: \",current_epoch)\n",
    "    print(\"**************************************\")\n",
    "    #when we need to save the model weights for learning for many times not one time\n",
    "    patience = 15\n",
    "    counter = 0\n",
    "    best_val_loss = float('inf')\n",
    "    for epoch in range(epochs):\n",
    "        loss_per_epoch = 0\n",
    "        Acc_train = 0\n",
    "        Acc_val = 0\n",
    "        for feature , labels in train_loader:\n",
    "            #to GPU\n",
    "            epoch_start_time = time.time()\n",
    "            feature, labels = feature.to(device), labels.to(device)\n",
    "            # forward\n",
    "            logits, y_pred = model(feature)\n",
    "            # calculate loss fn\n",
    "            loss = criterion(logits, labels)\n",
    "            loss_per_epoch += loss.item()\n",
    "            Acc_train += (y_pred.argmax(dim =1) == labels).sum().item() / len(labels)\n",
    "            # reset gradients\n",
    "            optimizer.zero_grad()\n",
    "            # calculate gradients\n",
    "            loss.backward()\n",
    "            # update weights\n",
    "            optimizer.step()\n",
    "        \n",
    "        #UserWarning: Using a target size (labels)(torch.Size([64])) that is different to the input size (y_predict)(torch.Size([64, 1])). This will likely lead to incorrect results due to broadcasting. Please ensure they have the same size.\n",
    "        # warning that make results wrong\n",
    "        loss_per_epoch /= len(train_loader)\n",
    "        Acc_train /= len(train_loader)\n",
    "        loss_per_epoch /= len(train_loader)\n",
    "        history['train_loss'].append(loss_per_epoch)\n",
    "        history['train_acc'].append(Acc_train)\n",
    "        # validation Check\n",
    "        with torch.no_grad():\n",
    "            validation_loss = 0\n",
    "            for x_valid , y_valid in val_loader:\n",
    "                x_valid, y_valid = x_valid.to(device), y_valid.to(device)\n",
    "                logits, y_val_pred = model(x_valid)\n",
    "                loss = criterion(logits, y_valid)\n",
    "                validation_loss += loss.item()\n",
    "                Acc_val += (y_val_pred.argmax(dim = 1) == y_valid).sum().item() / len(y_valid)\n",
    "            validation_loss /= len(val_loader)\n",
    "            Acc_val /= len(val_loader)\n",
    "            #checking for Early Stopping:\n",
    "            if validation_loss < best_val_loss:#this true when validation loss is always decreases\n",
    "                best_val_loss = validation_loss\n",
    "                counter = 0\n",
    "            else: #this will happen when validation loss increases or remain the same\n",
    "                counter += 1\n",
    "                if counter >= patience:\n",
    "                    print(\"Early Stopping\")\n",
    "                    #save weights\n",
    "                    #torch.save(estimator.state_dict(), PATH + 'model_weights.pth')\n",
    "                    #pickle.dump(history,open(PATH+'history.pkl','wb') )\n",
    "                    return history\n",
    "            history['val_loss'].append(validation_loss)\n",
    "            history['val_acc'].append(Acc_val)\n",
    "            current_epoch += 1\n",
    "            #if epoch %10 ==0:\n",
    "            #save weights\n",
    "                #finished_epochs = current_epoch\n",
    "                #we need to save finished_epochs:\n",
    "                #pickle.dump(finished_epochs, open(PATH + 'finished_epochs.pkl', 'wb'))#save object\n",
    "                #pickle.dump(history,open(PATH+'history.pkl','wb') )#save history\n",
    "                #torch.save(estimator.state_dict(), PATH + 'model_weights.pth')\n",
    "        print(f\"epoch:{current_epoch}, loss_Train: {loss_per_epoch:0.3f} ,Acc_train: {Acc_train * 100:0.3f}, loss_Validation: {validation_loss}, Acc_valid:{Acc_val * 100:0.3f}\", end=' ')\n",
    "        print(f\"Time Elapsed: {(time.time() - epoch_start_time)/60 :0.2f} min\")\n",
    "    print(f\"Total Time Elapsed:  {(time.time() - start_time)/60 :0.2f} min\")\n",
    "    return history\n"
   ]
  },
  {
   "cell_type": "code",
   "execution_count": 16,
   "id": "04373643",
   "metadata": {},
   "outputs": [],
   "source": [
    "estimator = SimpleCNN(n_classes = 7).to(device)\n",
    "# 7. Define loss and optimizer\n",
    "criterion = nn.CrossEntropyLoss()\n",
    "optimizer = optim.Adam(estimator.parameters(), lr=0.001)"
   ]
  },
  {
   "cell_type": "code",
   "execution_count": 17,
   "id": "e9c35157",
   "metadata": {},
   "outputs": [
    {
     "name": "stdout",
     "output_type": "stream",
     "text": [
      "The training is strating from epoch:  0\n",
      "**************************************\n",
      "epoch:1, loss_Train: 0.039 ,Acc_train: 21.535, loss_Validation: 1.7726944544736076, Acc_valid:26.930 Time Elapsed: 0.10 min\n",
      "epoch:2, loss_Train: 0.037 ,Acc_train: 27.698, loss_Validation: 2.0744866097674652, Acc_valid:24.265 Time Elapsed: 0.09 min\n",
      "epoch:3, loss_Train: 0.036 ,Acc_train: 31.029, loss_Validation: 1.5627383414436788, Acc_valid:37.592 Time Elapsed: 0.09 min\n",
      "epoch:4, loss_Train: 0.033 ,Acc_train: 36.650, loss_Validation: 1.4650115405811983, Acc_valid:42.739 Time Elapsed: 0.06 min\n",
      "epoch:5, loss_Train: 0.032 ,Acc_train: 40.094, loss_Validation: 1.4130385798566483, Acc_valid:44.853 Time Elapsed: 0.06 min\n",
      "epoch:6, loss_Train: 0.031 ,Acc_train: 43.720, loss_Validation: 1.3488532024271347, Acc_valid:47.059 Time Elapsed: 0.06 min\n",
      "epoch:7, loss_Train: 0.029 ,Acc_train: 46.711, loss_Validation: 1.3540264718672808, Acc_valid:48.897 Time Elapsed: 0.06 min\n",
      "epoch:8, loss_Train: 0.028 ,Acc_train: 48.216, loss_Validation: 1.2510799309786629, Acc_valid:56.893 Time Elapsed: 0.06 min\n",
      "epoch:9, loss_Train: 0.027 ,Acc_train: 49.853, loss_Validation: 1.1037376400302439, Acc_valid:60.478 Time Elapsed: 0.06 min\n",
      "epoch:10, loss_Train: 0.025 ,Acc_train: 54.062, loss_Validation: 1.2925206712063622, Acc_valid:53.493 Time Elapsed: 0.06 min\n",
      "epoch:11, loss_Train: 0.024 ,Acc_train: 57.440, loss_Validation: 0.9994944868718877, Acc_valid:62.960 Time Elapsed: 0.07 min\n",
      "epoch:12, loss_Train: 0.022 ,Acc_train: 58.350, loss_Validation: 1.0107943338944632, Acc_valid:63.787 Time Elapsed: 0.06 min\n",
      "epoch:13, loss_Train: 0.022 ,Acc_train: 61.556, loss_Validation: 0.8571107998928603, Acc_valid:68.566 Time Elapsed: 0.07 min\n",
      "epoch:14, loss_Train: 0.021 ,Acc_train: 62.706, loss_Validation: 0.9565433202420964, Acc_valid:66.544 Time Elapsed: 0.06 min\n",
      "epoch:15, loss_Train: 0.019 ,Acc_train: 65.440, loss_Validation: 0.89098201955066, Acc_valid:69.026 Time Elapsed: 0.06 min\n",
      "epoch:16, loss_Train: 0.018 ,Acc_train: 66.994, loss_Validation: 0.7702201035092858, Acc_valid:72.335 Time Elapsed: 0.07 min\n",
      "epoch:17, loss_Train: 0.018 ,Acc_train: 68.093, loss_Validation: 0.6891864231404137, Acc_valid:75.643 Time Elapsed: 0.07 min\n",
      "epoch:18, loss_Train: 0.017 ,Acc_train: 69.496, loss_Validation: 0.5973464180441463, Acc_valid:78.217 Time Elapsed: 0.06 min\n",
      "epoch:19, loss_Train: 0.018 ,Acc_train: 69.352, loss_Validation: 0.6877884671968573, Acc_valid:75.827 Time Elapsed: 0.06 min\n",
      "epoch:20, loss_Train: 0.015 ,Acc_train: 73.786, loss_Validation: 0.5785357881994808, Acc_valid:77.941 Time Elapsed: 0.08 min\n",
      "epoch:21, loss_Train: 0.014 ,Acc_train: 76.082, loss_Validation: 0.6410772829823306, Acc_valid:76.562 Time Elapsed: 0.06 min\n",
      "epoch:22, loss_Train: 0.014 ,Acc_train: 74.520, loss_Validation: 0.7675127650008482, Acc_valid:74.816 Time Elapsed: 0.06 min\n",
      "epoch:23, loss_Train: 0.014 ,Acc_train: 76.035, loss_Validation: 0.4673634436638916, Acc_valid:82.904 Time Elapsed: 0.06 min\n",
      "epoch:24, loss_Train: 0.012 ,Acc_train: 79.294, loss_Validation: 0.5316350874217117, Acc_valid:81.250 Time Elapsed: 0.06 min\n",
      "epoch:25, loss_Train: 0.013 ,Acc_train: 77.908, loss_Validation: 0.48017076315248713, Acc_valid:83.824 Time Elapsed: 0.07 min\n",
      "epoch:26, loss_Train: 0.012 ,Acc_train: 78.937, loss_Validation: 0.5113475528710029, Acc_valid:82.261 Time Elapsed: 0.07 min\n",
      "epoch:27, loss_Train: 0.011 ,Acc_train: 80.053, loss_Validation: 0.49908323684597716, Acc_valid:81.250 Time Elapsed: 0.06 min\n",
      "epoch:28, loss_Train: 0.011 ,Acc_train: 80.636, loss_Validation: 0.3935999931658016, Acc_valid:86.857 Time Elapsed: 0.07 min\n",
      "epoch:29, loss_Train: 0.011 ,Acc_train: 80.244, loss_Validation: 0.4018635118708891, Acc_valid:85.846 Time Elapsed: 0.07 min\n",
      "epoch:30, loss_Train: 0.011 ,Acc_train: 81.552, loss_Validation: 0.4464184869738186, Acc_valid:84.926 Time Elapsed: 0.07 min\n",
      "epoch:31, loss_Train: 0.009 ,Acc_train: 83.975, loss_Validation: 0.5130520489285973, Acc_valid:81.985 Time Elapsed: 0.06 min\n",
      "epoch:32, loss_Train: 0.009 ,Acc_train: 85.355, loss_Validation: 0.37209659617613344, Acc_valid:86.489 Time Elapsed: 0.07 min\n",
      "epoch:33, loss_Train: 0.009 ,Acc_train: 83.497, loss_Validation: 0.46219975676606684, Acc_valid:83.364 Time Elapsed: 0.07 min\n",
      "epoch:34, loss_Train: 0.009 ,Acc_train: 84.770, loss_Validation: 0.34328989596927867, Acc_valid:87.408 Time Elapsed: 0.06 min\n",
      "epoch:35, loss_Train: 0.010 ,Acc_train: 83.312, loss_Validation: 0.5402964075945098, Acc_valid:84.467 Time Elapsed: 0.07 min\n",
      "epoch:36, loss_Train: 0.009 ,Acc_train: 84.573, loss_Validation: 0.4167594903093927, Acc_valid:86.305 Time Elapsed: 0.06 min\n",
      "epoch:37, loss_Train: 0.008 ,Acc_train: 86.703, loss_Validation: 0.3589305594316958, Acc_valid:86.121 Time Elapsed: 0.07 min\n",
      "epoch:38, loss_Train: 0.007 ,Acc_train: 86.909, loss_Validation: 0.3846566510551116, Acc_valid:88.971 Time Elapsed: 0.07 min\n",
      "epoch:39, loss_Train: 0.007 ,Acc_train: 87.515, loss_Validation: 0.29088281971566815, Acc_valid:88.787 Time Elapsed: 0.07 min\n",
      "epoch:40, loss_Train: 0.008 ,Acc_train: 86.750, loss_Validation: 0.306501614915974, Acc_valid:90.349 Time Elapsed: 0.07 min\n",
      "epoch:41, loss_Train: 0.006 ,Acc_train: 89.364, loss_Validation: 0.34641485470894945, Acc_valid:89.522 Time Elapsed: 0.06 min\n",
      "epoch:42, loss_Train: 0.008 ,Acc_train: 86.958, loss_Validation: 0.27161786890835227, Acc_valid:90.625 Time Elapsed: 0.07 min\n",
      "epoch:43, loss_Train: 0.006 ,Acc_train: 88.799, loss_Validation: 0.32888281672186326, Acc_valid:90.074 Time Elapsed: 0.06 min\n",
      "epoch:44, loss_Train: 0.007 ,Acc_train: 88.631, loss_Validation: 0.2976710905889323, Acc_valid:91.085 Time Elapsed: 0.08 min\n",
      "epoch:45, loss_Train: 0.007 ,Acc_train: 89.182, loss_Validation: 0.3255628573927371, Acc_valid:90.809 Time Elapsed: 0.07 min\n",
      "epoch:46, loss_Train: 0.006 ,Acc_train: 89.286, loss_Validation: 0.21821639540276544, Acc_valid:92.279 Time Elapsed: 0.06 min\n",
      "epoch:47, loss_Train: 0.006 ,Acc_train: 90.242, loss_Validation: 0.29409195821020095, Acc_valid:90.809 Time Elapsed: 0.07 min\n",
      "epoch:48, loss_Train: 0.006 ,Acc_train: 90.457, loss_Validation: 0.3072734046179582, Acc_valid:90.074 Time Elapsed: 0.07 min\n",
      "epoch:49, loss_Train: 0.006 ,Acc_train: 90.393, loss_Validation: 0.2960018690840062, Acc_valid:90.809 Time Elapsed: 0.07 min\n",
      "epoch:50, loss_Train: 0.006 ,Acc_train: 90.457, loss_Validation: 0.2672280313118416, Acc_valid:90.625 Time Elapsed: 0.06 min\n",
      "epoch:51, loss_Train: 0.005 ,Acc_train: 91.550, loss_Validation: 0.23992077843286097, Acc_valid:93.015 Time Elapsed: 0.06 min\n",
      "epoch:52, loss_Train: 0.007 ,Acc_train: 88.982, loss_Validation: 0.28772045118239475, Acc_valid:90.533 Time Elapsed: 0.07 min\n",
      "epoch:53, loss_Train: 0.006 ,Acc_train: 89.309, loss_Validation: 0.2565717546655351, Acc_valid:91.268 Time Elapsed: 0.06 min\n",
      "epoch:54, loss_Train: 0.005 ,Acc_train: 90.816, loss_Validation: 0.21134922164834707, Acc_valid:93.566 Time Elapsed: 0.07 min\n",
      "epoch:55, loss_Train: 0.005 ,Acc_train: 91.220, loss_Validation: 0.24986091251348092, Acc_valid:92.096 Time Elapsed: 0.07 min\n",
      "epoch:56, loss_Train: 0.006 ,Acc_train: 91.008, loss_Validation: 0.3425844602889436, Acc_valid:89.430 Time Elapsed: 0.07 min\n",
      "epoch:57, loss_Train: 0.005 ,Acc_train: 91.350, loss_Validation: 0.2209182364107726, Acc_valid:91.728 Time Elapsed: 0.07 min\n",
      "epoch:58, loss_Train: 0.005 ,Acc_train: 91.214, loss_Validation: 0.33313589047218234, Acc_valid:90.349 Time Elapsed: 0.06 min\n",
      "epoch:59, loss_Train: 0.005 ,Acc_train: 91.254, loss_Validation: 0.30138274641050133, Acc_valid:91.268 Time Elapsed: 0.07 min\n",
      "epoch:60, loss_Train: 0.005 ,Acc_train: 92.179, loss_Validation: 0.265493607613534, Acc_valid:92.371 Time Elapsed: 0.07 min\n",
      "epoch:61, loss_Train: 0.004 ,Acc_train: 92.840, loss_Validation: 0.19406527308199337, Acc_valid:93.199 Time Elapsed: 0.07 min\n",
      "epoch:62, loss_Train: 0.004 ,Acc_train: 93.000, loss_Validation: 0.3750298068877836, Acc_valid:90.533 Time Elapsed: 0.07 min\n",
      "epoch:63, loss_Train: 0.005 ,Acc_train: 92.474, loss_Validation: 0.23353396991596503, Acc_valid:93.382 Time Elapsed: 0.06 min\n",
      "epoch:64, loss_Train: 0.005 ,Acc_train: 91.805, loss_Validation: 0.30090250310433264, Acc_valid:91.636 Time Elapsed: 0.06 min\n",
      "epoch:65, loss_Train: 0.004 ,Acc_train: 93.997, loss_Validation: 0.2383256917763741, Acc_valid:93.290 Time Elapsed: 0.07 min\n",
      "epoch:66, loss_Train: 0.004 ,Acc_train: 92.985, loss_Validation: 0.176598841980649, Acc_valid:94.210 Time Elapsed: 0.07 min\n",
      "epoch:67, loss_Train: 0.004 ,Acc_train: 93.614, loss_Validation: 0.181705845579178, Acc_valid:94.210 Time Elapsed: 0.06 min\n",
      "epoch:68, loss_Train: 0.005 ,Acc_train: 91.924, loss_Validation: 0.19993607387604082, Acc_valid:94.393 Time Elapsed: 0.07 min\n",
      "epoch:69, loss_Train: 0.004 ,Acc_train: 93.933, loss_Validation: 0.19951129340402343, Acc_valid:94.485 Time Elapsed: 0.06 min\n",
      "epoch:70, loss_Train: 0.004 ,Acc_train: 94.228, loss_Validation: 0.45727131616406363, Acc_valid:89.338 Time Elapsed: 0.06 min\n",
      "epoch:71, loss_Train: 0.004 ,Acc_train: 93.104, loss_Validation: 0.21326246064649346, Acc_valid:93.658 Time Elapsed: 0.07 min\n",
      "epoch:72, loss_Train: 0.004 ,Acc_train: 93.367, loss_Validation: 0.22193488708588868, Acc_valid:93.199 Time Elapsed: 0.06 min\n",
      "epoch:73, loss_Train: 0.004 ,Acc_train: 93.654, loss_Validation: 0.18388422175164176, Acc_valid:93.934 Time Elapsed: 0.07 min\n",
      "epoch:74, loss_Train: 0.005 ,Acc_train: 92.634, loss_Validation: 0.22571180941641908, Acc_valid:92.739 Time Elapsed: 0.07 min\n",
      "epoch:75, loss_Train: 0.004 ,Acc_train: 93.924, loss_Validation: 0.17087158316339543, Acc_valid:94.761 Time Elapsed: 0.06 min\n",
      "epoch:76, loss_Train: 0.003 ,Acc_train: 94.953, loss_Validation: 0.17631250845870988, Acc_valid:95.404 Time Elapsed: 0.07 min\n",
      "epoch:77, loss_Train: 0.004 ,Acc_train: 93.814, loss_Validation: 0.23040066735666187, Acc_valid:92.555 Time Elapsed: 0.06 min\n",
      "epoch:78, loss_Train: 0.004 ,Acc_train: 93.295, loss_Validation: 0.19447755441066258, Acc_valid:94.577 Time Elapsed: 0.07 min\n",
      "epoch:79, loss_Train: 0.004 ,Acc_train: 93.710, loss_Validation: 0.1494157293392859, Acc_valid:95.404 Time Elapsed: 0.06 min\n",
      "epoch:80, loss_Train: 0.003 ,Acc_train: 94.753, loss_Validation: 0.1556418540147955, Acc_valid:95.129 Time Elapsed: 0.07 min\n",
      "epoch:81, loss_Train: 0.004 ,Acc_train: 93.909, loss_Validation: 0.41277498200617907, Acc_valid:90.441 Time Elapsed: 0.06 min\n",
      "epoch:82, loss_Train: 0.003 ,Acc_train: 94.515, loss_Validation: 0.12043696859933227, Acc_valid:95.312 Time Elapsed: 0.06 min\n",
      "epoch:83, loss_Train: 0.003 ,Acc_train: 95.240, loss_Validation: 0.21173886686249396, Acc_valid:93.199 Time Elapsed: 0.06 min\n",
      "epoch:84, loss_Train: 0.004 ,Acc_train: 93.654, loss_Validation: 0.15668360666527673, Acc_valid:95.588 Time Elapsed: 0.07 min\n",
      "epoch:85, loss_Train: 0.003 ,Acc_train: 94.930, loss_Validation: 0.22096624236334772, Acc_valid:93.015 Time Elapsed: 0.06 min\n",
      "epoch:86, loss_Train: 0.004 ,Acc_train: 93.478, loss_Validation: 0.27683072725673863, Acc_valid:92.647 Time Elapsed: 0.07 min\n",
      "epoch:87, loss_Train: 0.004 ,Acc_train: 94.466, loss_Validation: 0.18759048916399312, Acc_valid:93.934 Time Elapsed: 0.06 min\n",
      "epoch:88, loss_Train: 0.003 ,Acc_train: 94.794, loss_Validation: 0.1844954035751631, Acc_valid:93.750 Time Elapsed: 0.07 min\n",
      "epoch:89, loss_Train: 0.003 ,Acc_train: 94.690, loss_Validation: 0.1863797233600588, Acc_valid:95.037 Time Elapsed: 0.07 min\n",
      "epoch:90, loss_Train: 0.004 ,Acc_train: 94.356, loss_Validation: 0.23332227300484057, Acc_valid:92.739 Time Elapsed: 0.07 min\n",
      "epoch:91, loss_Train: 0.003 ,Acc_train: 94.228, loss_Validation: 0.33551006062942307, Acc_valid:92.923 Time Elapsed: 0.07 min\n",
      "epoch:92, loss_Train: 0.003 ,Acc_train: 94.069, loss_Validation: 0.2629821576616076, Acc_valid:92.831 Time Elapsed: 0.06 min\n",
      "epoch:93, loss_Train: 0.003 ,Acc_train: 95.408, loss_Validation: 0.16783076930077562, Acc_valid:94.301 Time Elapsed: 0.07 min\n",
      "epoch:94, loss_Train: 0.003 ,Acc_train: 95.312, loss_Validation: 0.36323201393379884, Acc_valid:91.268 Time Elapsed: 0.07 min\n",
      "epoch:95, loss_Train: 0.004 ,Acc_train: 93.909, loss_Validation: 0.21450737191309385, Acc_valid:94.393 Time Elapsed: 0.07 min\n",
      "epoch:96, loss_Train: 0.004 ,Acc_train: 93.773, loss_Validation: 0.28536290675166287, Acc_valid:92.647 Time Elapsed: 0.06 min\n",
      "Early Stopping\n"
     ]
    }
   ],
   "source": [
    "hist = train(\n",
    "            model = estimator,\n",
    "            optimizer = optimizer ,\n",
    "            criterion = criterion,\n",
    "            device = device,\n",
    "            dataset_loader = train_loader ,\n",
    "            val_loader = val_loader,\n",
    "            epochs_ = 100,\n",
    "            finished_epochs = 0,\n",
    "            PATH = None\n",
    ")\n"
   ]
  },
  {
   "cell_type": "code",
   "execution_count": 19,
   "id": "abee8c03",
   "metadata": {},
   "outputs": [],
   "source": [
    "def learning_curve(histroy = hist, graph = 'loss'):\n",
    "    #draw learing Curves:#losses\n",
    "    if graph == 'loss':\n",
    "        plt.plot(hist['train_loss'], label = 'train loss')\n",
    "        plt.plot(hist['val_acc'], label = 'valid loss')\n",
    "        plt.legend()\n",
    "        plt.grid(True)\n",
    "        plt.show()\n",
    "    if graph == 'ACC':\n",
    "        plt.plot(hist['train_acc'], label = 'train Acc')\n",
    "        plt.plot(hist['val_acc'], label = 'valid Acc')\n",
    "        plt.legend()\n",
    "        plt.grid(True)\n",
    "        plt.show()"
   ]
  },
  {
   "cell_type": "code",
   "execution_count": 20,
   "id": "b13c035d",
   "metadata": {},
   "outputs": [
    {
     "data": {
      "image/png": "[encoded data removed]",
      "text/plain": [
       "<Figure size 640x480 with 1 Axes>"
      ]
     },
     "metadata": {},
     "output_type": "display_data"
    }
   ],
   "source": [
    "learning_curve(histroy = hist, graph = 'loss')"
   ]
  },
  {
   "cell_type": "code",
   "execution_count": 21,
   "id": "691de23e",
   "metadata": {},
   "outputs": [
    {
     "data": {
      "image/png": "[encoded data removed]",
      "text/plain": [
       "<Figure size 640x480 with 1 Axes>"
      ]
     },
     "metadata": {},
     "output_type": "display_data"
    }
   ],
   "source": [
    "learning_curve(histroy = hist, graph = 'ACC')"
   ]
  },
  {
   "cell_type": "code",
   "execution_count": null,
   "id": "0f21716c",
   "metadata": {},
   "outputs": [],
   "source": [
    "# #test data to measure the performance of neural network\n",
    "# y_true = []\n",
    "# y_pred = []\n",
    "# with torch.no_grad():\n",
    "#     for features, target in test_loader:\n",
    "#       features, labels = features.to(device), target.to(device)\n",
    "#       logits, y_hat = estimator(features)\n",
    "#       y_true.extend(target.cpu().numpy())#convert from pytorch to numpy\n",
    "#       y_pred.extend(y_hat.argmax(dim=1).cpu().numpy())"
   ]
  },
  {
   "cell_type": "code",
   "execution_count": 22,
   "id": "6e14c115",
   "metadata": {},
   "outputs": [],
   "source": [
    "#test data to measure the performance of neural network\n",
    "y_true = []\n",
    "y_pred = []\n",
    "with torch.no_grad():\n",
    "    for features, target in test_loader:\n",
    "      features, labels = features.to(device), target.to(device)\n",
    "      logits, y_hat = estimator(features)\n",
    "      y_true.extend(target.cpu().numpy())#convert from pytorch to numpy\n",
    "      y_pred.extend(y_hat.argmax(dim=1).cpu().numpy())"
   ]
  },
  {
   "cell_type": "code",
   "execution_count": 23,
   "id": "a52e4fa3",
   "metadata": {},
   "outputs": [],
   "source": [
    "\n",
    "from sklearn.metrics import accuracy_score, classification_report, confusion_matrix\n",
    "from seaborn import heatmap\n",
    "labels = list (classes_info.keys())"
   ]
  },
  {
   "cell_type": "code",
   "execution_count": 24,
   "id": "da06bc9e",
   "metadata": {},
   "outputs": [
    {
     "data": {
      "text/plain": [
       "['CaS', 'CoS', 'Gum', 'MC', 'OC', 'OLP', 'OT']"
      ]
     },
     "execution_count": 24,
     "metadata": {},
     "output_type": "execute_result"
    }
   ],
   "source": [
    "labels"
   ]
  },
  {
   "cell_type": "code",
   "execution_count": 25,
   "id": "d8a35a7c",
   "metadata": {},
   "outputs": [
    {
     "data": {
      "image/png": "[encoded data removed]",
      "text/plain": [
       "<Figure size 640x480 with 2 Axes>"
      ]
     },
     "metadata": {},
     "output_type": "display_data"
    }
   ],
   "source": [
    "cm = confusion_matrix(y_true ,y_pred)\n",
    "heatmap(cm, annot = True, fmt = 'd',\n",
    "        xticklabels=labels,\n",
    "        yticklabels = labels)\n",
    "plt.xlabel(\"Predicted\")\n",
    "plt.ylabel('Actual')\n",
    "plt.title(\"Confusion Matrix\")\n",
    "plt.show()"
   ]
  },
  {
   "cell_type": "code",
   "execution_count": 26,
   "id": "e0522779",
   "metadata": {},
   "outputs": [
    {
     "name": "stdout",
     "output_type": "stream",
     "text": [
      "Acc:  0.9367704280155642\n",
      "Classification report:\n",
      "                precision    recall  f1-score   support\n",
      "\n",
      "           0       0.98      0.91      0.94       160\n",
      "           1       0.93      0.97      0.95       149\n",
      "           2       0.95      0.96      0.95       120\n",
      "           3       0.94      0.93      0.94       180\n",
      "           4       0.89      0.91      0.90       108\n",
      "           5       0.91      0.93      0.92       180\n",
      "           6       0.95      0.95      0.95       131\n",
      "\n",
      "    accuracy                           0.94      1028\n",
      "   macro avg       0.94      0.94      0.94      1028\n",
      "weighted avg       0.94      0.94      0.94      1028\n",
      "\n"
     ]
    }
   ],
   "source": [
    "print(\"Acc: \", accuracy_score(y_true ,y_pred))\n",
    "print(\"Classification report:\\n \", classification_report(y_true ,y_pred))"
   ]
  },
  {
   "cell_type": "code",
   "execution_count": 27,
   "id": "1bd92609",
   "metadata": {},
   "outputs": [
    {
     "data": {
      "text/plain": [
       "torch.Size([4, 3, 256, 256])"
      ]
     },
     "execution_count": 27,
     "metadata": {},
     "output_type": "execute_result"
    }
   ],
   "source": [
    "features.shape"
   ]
  },
  {
   "cell_type": "code",
   "execution_count": 28,
   "id": "c8c14164",
   "metadata": {},
   "outputs": [],
   "source": [
    "\n",
    "example_input = torch.randn(features.shape).to(device)\n",
    "traced_model = torch.jit.trace(estimator, example_input)"
   ]
  },
  {
   "cell_type": "code",
   "execution_count": 30,
   "id": "4e333c8f",
   "metadata": {},
   "outputs": [],
   "source": [
    "\n",
    "example_input = torch.randn(features.shape).to(device)\n",
    "traced_model_withAugmented = torch.jit.trace(estimator, example_input)"
   ]
  },
  {
   "cell_type": "code",
   "execution_count": 31,
   "id": "222d5977",
   "metadata": {},
   "outputs": [],
   "source": [
    "\n",
    "# Save the scripted model\n",
    "PATH = 'D:\\\\Cellula Technologies\\\\Project_1\\\\Estimators\\\\'\n",
    "traced_model_withAugmented.save(PATH + \"traced_model_1.pt\")\n",
    "     "
   ]
  },
  {
   "cell_type": "code",
   "execution_count": null,
   "id": "4d3a746a",
   "metadata": {},
   "outputs": [],
   "source": []
  },
  {
   "cell_type": "code",
   "execution_count": null,
   "id": "3bada945",
   "metadata": {},
   "outputs": [],
   "source": []
  },
  {
   "cell_type": "code",
   "execution_count": null,
   "id": "f9dad0f7",
   "metadata": {},
   "outputs": [],
   "source": []
  },
  {
   "cell_type": "code",
   "execution_count": null,
   "id": "51e7f7b7",
   "metadata": {},
   "outputs": [],
   "source": []
  }
 ],
 "metadata": {
  "kernelspec": {
   "display_name": "myenv",
   "language": "python",
   "name": "python3"
  },
  "language_info": {
   "codemirror_mode": {
    "name": "ipython",
    "version": 3
   },
   "file_extension": ".py",
   "mimetype": "text/x-python",
   "name": "python",
   "nbconvert_exporter": "python",
   "pygments_lexer": "ipython3",
   "version": "3.10.11"
  }
 },
 "nbformat": 4,
 "nbformat_minor": 5
}
