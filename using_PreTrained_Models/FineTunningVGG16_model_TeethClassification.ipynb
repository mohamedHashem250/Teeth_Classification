{
 "cells": [
  {
   "cell_type": "code",
   "execution_count": 1,
   "id": "e96a968b",
   "metadata": {},
   "outputs": [],
   "source": [
    "import torch\n",
    "import torch.nn as nn\n",
    "import torchvision\n",
    "import torch.optim as optim\n",
    "from torchvision import datasets, transforms\n",
    "from torch.utils.data import DataLoader, random_split\n",
    "import matplotlib.pyplot as plt\n",
    "import numpy as np\n",
    "import pickle\n",
    "from collections import Counter\n",
    "from collections import defaultdict\n",
    "import time\n",
    "import torchvision.models as models\n",
    "import torch.nn as nn"
   ]
  },
  {
   "cell_type": "code",
   "execution_count": null,
   "id": "25350199",
   "metadata": {},
   "outputs": [],
   "source": [
    "#https://medium.com/@piyushkashyap045/transfer-learning-in-pytorch-fine-tuning-pretrained-models-for-custom-datasets-6737b03d6fa2"
   ]
  },
  {
   "cell_type": "code",
   "execution_count": 2,
   "id": "267311e9",
   "metadata": {},
   "outputs": [
    {
     "data": {
      "text/plain": [
       "device(type='cuda')"
      ]
     },
     "execution_count": 2,
     "metadata": {},
     "output_type": "execute_result"
    }
   ],
   "source": [
    "#  Set device\n",
    "device = torch.device(\"cuda\" if torch.cuda.is_available() else \"cpu\")\n",
    "device"
   ]
  },
  {
   "cell_type": "code",
   "execution_count": 3,
   "id": "0faf1edd",
   "metadata": {},
   "outputs": [],
   "source": [
    "#we just use to calculate mean and std values for the images:\n",
    "def calculate_mean_std_images(train_data):\n",
    "    sum_channels_pixels = np.zeros(3,)#np.array([0.,0.,0.])\n",
    "    sum_square_channels_pixels = np.zeros(3,)\n",
    "    total_pixels  = 0\n",
    "    for img, _  in train_data:\n",
    "        #img is PIL.Image instance ==>np array\n",
    "        Img = np.asarray(img)/255.0\n",
    "        total_pixels +=np.prod(Img.shape[0:-1])\n",
    "        #calculate per channel for each array\n",
    "        sum_channels_pixels += Img.sum(axis=(0,1))\n",
    "        sum_square_channels_pixels += (Img **2).sum(axis=(0,1))\n",
    "    mean = sum_channels_pixels / total_pixels\n",
    "    #Var(X)=E[X ^2]−(E[X])^2\n",
    "    var = (sum_square_channels_pixels /sum_channels_pixels) - (mean **2)\n",
    "    std = np.sqrt(var)\n",
    "    return mean, std"
   ]
  },
  {
   "cell_type": "code",
   "execution_count": 4,
   "id": "7d9ea3d8",
   "metadata": {},
   "outputs": [
    {
     "name": "stdout",
     "output_type": "stream",
     "text": [
      "the mean per channel for training images: [0.73255072 0.50281198 0.47917073]\n",
      "the std per channel for training images: [0.51907074 0.61126614 0.61097012]\n"
     ]
    }
   ],
   "source": [
    "#calculate the mean and std:\n",
    "Parent_Path = 'D:\\\\Cellula Technologies\\\\Project_1\\\\Teeth DataSet\\\\'\n",
    "train_data = torchvision.datasets.ImageFolder(root = Parent_Path +'Training')\n",
    "m , s = calculate_mean_std_images(train_data)\n",
    "print(f'the mean per channel for training images: {m}')\n",
    "print(f'the std per channel for training images: {s}')\n",
    "#note: it takes a lot of time to calcalate but i just run one time\n",
    "#future work: we can deal with ToTensor"
   ]
  },
  {
   "cell_type": "code",
   "execution_count": 5,
   "id": "55e731df",
   "metadata": {},
   "outputs": [
    {
     "data": {
      "text/plain": [
       "['otherFiles', 'Testing', 'Training', 'Validation']"
      ]
     },
     "execution_count": 5,
     "metadata": {},
     "output_type": "execute_result"
    }
   ],
   "source": [
    "import os\n",
    "os.listdir(Parent_Path)"
   ]
  },
  {
   "cell_type": "code",
   "execution_count": 5,
   "id": "fe20ad9b",
   "metadata": {},
   "outputs": [],
   "source": [
    "# . Define transforms\n",
    "Parent_Path = 'D:\\\\Cellula Technologies\\\\Project_1\\\\Teeth DataSet\\\\'\n",
    "basic_tranfrom= transforms.Compose([\n",
    "    transforms.ToTensor(),\n",
    "    transforms.Normalize(m , s)  # mean and std for MNIST\n",
    "])\n",
    "train_transform = transforms.Compose([\n",
    "    #data Augmentation:\n",
    "    transforms.RandomRotation(10),#rotation range [0:40]\n",
    "    transforms.RandomAffine(degrees= 0, translate = (0.2,0.2)),\n",
    "    transforms.RandomHorizontalFlip(), \n",
    "    #transforms.RandomResizedCrop(250, scale = (0.8, 1)),\n",
    "    transforms.ColorJitter(brightness = 0.2, contrast = 0.2, saturation = 0.2),\n",
    "    transforms.ToTensor(),\n",
    "    transforms.Normalize(m , s)  # mean and std for MNIST\n",
    "])\n",
    "\n"
   ]
  },
  {
   "cell_type": "code",
   "execution_count": 6,
   "id": "94d3530f",
   "metadata": {},
   "outputs": [],
   "source": [
    "#load images using ImageFloder: \n",
    "train_data = torchvision.datasets.ImageFolder(root = Parent_Path +'Training',transform=train_transform )\n",
    "validation_data = torchvision.datasets.ImageFolder(root = Parent_Path +'Validation',transform=basic_tranfrom )\n",
    "test_data = torchvision.datasets.ImageFolder(root = Parent_Path +'Testing',transform=basic_tranfrom)"
   ]
  },
  {
   "cell_type": "code",
   "execution_count": 7,
   "id": "9d0ec36e",
   "metadata": {},
   "outputs": [
    {
     "name": "stdout",
     "output_type": "stream",
     "text": [
      "CaS      0\n",
      "CoS      1\n",
      "Gum      2\n",
      "MC      3\n",
      "OC      4\n",
      "OLP      5\n",
      "OT      6\n"
     ]
    }
   ],
   "source": [
    "for k, v in train_data.class_to_idx.items():\n",
    "    print(k , \"    \", v)"
   ]
  },
  {
   "cell_type": "code",
   "execution_count": 8,
   "id": "a244a409",
   "metadata": {},
   "outputs": [],
   "source": [
    "#train_data.class_to_idx\n",
    "labels_count = Counter(train_data.targets)\n",
    "classes_info = {K:  labels_count[numerical_label]  for K , numerical_label in train_data.class_to_idx.items()} "
   ]
  },
  {
   "cell_type": "code",
   "execution_count": 17,
   "id": "642c6ebe",
   "metadata": {},
   "outputs": [
    {
     "data": {
      "text/plain": [
       "{'CaS': 480,\n",
       " 'CoS': 450,\n",
       " 'Gum': 360,\n",
       " 'MC': 540,\n",
       " 'OC': 324,\n",
       " 'OLP': 540,\n",
       " 'OT': 393}"
      ]
     },
     "execution_count": 17,
     "metadata": {},
     "output_type": "execute_result"
    }
   ],
   "source": [
    "classes_info "
   ]
  },
  {
   "cell_type": "code",
   "execution_count": 9,
   "id": "4955035b",
   "metadata": {},
   "outputs": [
    {
     "data": {
      "text/plain": [
       "dict_values([480, 450, 360, 540, 324, 540, 393])"
      ]
     },
     "execution_count": 9,
     "metadata": {},
     "output_type": "execute_result"
    }
   ],
   "source": [
    "classes_info.values()"
   ]
  },
  {
   "cell_type": "code",
   "execution_count": 10,
   "id": "dfcba655",
   "metadata": {},
   "outputs": [
    {
     "data": {
      "image/png": "[encoded data removed]",
      "text/plain": [
       "<Figure size 640x480 with 1 Axes>"
      ]
     },
     "metadata": {},
     "output_type": "display_data"
    }
   ],
   "source": [
    "plt.bar(classes_info.keys(), classes_info.values())\n",
    "plt.show()\n",
    "#try using px for effiencet drawing\n",
    "\n"
   ]
  },
  {
   "cell_type": "code",
   "execution_count": 11,
   "id": "4c9a1229",
   "metadata": {},
   "outputs": [],
   "source": [
    "#convert to dataLoader: \n",
    "train_loader = DataLoader(train_data , batch_size =64 , shuffle = True)\n",
    "val_loader = DataLoader(validation_data, batch_size =64 )\n",
    "test_loader = DataLoader(test_data , batch_size =64 )"
   ]
  },
  {
   "cell_type": "code",
   "execution_count": 12,
   "id": "87278248",
   "metadata": {},
   "outputs": [
    {
     "name": "stdout",
     "output_type": "stream",
     "text": [
      "VGG(\n",
      "  (features): Sequential(\n",
      "    (0): Conv2d(3, 64, kernel_size=(3, 3), stride=(1, 1), padding=(1, 1))\n",
      "    (1): ReLU(inplace=True)\n",
      "    (2): Conv2d(64, 64, kernel_size=(3, 3), stride=(1, 1), padding=(1, 1))\n",
      "    (3): ReLU(inplace=True)\n",
      "    (4): MaxPool2d(kernel_size=2, stride=2, padding=0, dilation=1, ceil_mode=False)\n",
      "    (5): Conv2d(64, 128, kernel_size=(3, 3), stride=(1, 1), padding=(1, 1))\n",
      "    (6): ReLU(inplace=True)\n",
      "    (7): Conv2d(128, 128, kernel_size=(3, 3), stride=(1, 1), padding=(1, 1))\n",
      "    (8): ReLU(inplace=True)\n",
      "    (9): MaxPool2d(kernel_size=2, stride=2, padding=0, dilation=1, ceil_mode=False)\n",
      "    (10): Conv2d(128, 256, kernel_size=(3, 3), stride=(1, 1), padding=(1, 1))\n",
      "    (11): ReLU(inplace=True)\n",
      "    (12): Conv2d(256, 256, kernel_size=(3, 3), stride=(1, 1), padding=(1, 1))\n",
      "    (13): ReLU(inplace=True)\n",
      "    (14): Conv2d(256, 256, kernel_size=(3, 3), stride=(1, 1), padding=(1, 1))\n",
      "    (15): ReLU(inplace=True)\n",
      "    (16): MaxPool2d(kernel_size=2, stride=2, padding=0, dilation=1, ceil_mode=False)\n",
      "    (17): Conv2d(256, 512, kernel_size=(3, 3), stride=(1, 1), padding=(1, 1))\n",
      "    (18): ReLU(inplace=True)\n",
      "    (19): Conv2d(512, 512, kernel_size=(3, 3), stride=(1, 1), padding=(1, 1))\n",
      "    (20): ReLU(inplace=True)\n",
      "    (21): Conv2d(512, 512, kernel_size=(3, 3), stride=(1, 1), padding=(1, 1))\n",
      "    (22): ReLU(inplace=True)\n",
      "    (23): MaxPool2d(kernel_size=2, stride=2, padding=0, dilation=1, ceil_mode=False)\n",
      "    (24): Conv2d(512, 512, kernel_size=(3, 3), stride=(1, 1), padding=(1, 1))\n",
      "    (25): ReLU(inplace=True)\n",
      "    (26): Conv2d(512, 512, kernel_size=(3, 3), stride=(1, 1), padding=(1, 1))\n",
      "    (27): ReLU(inplace=True)\n",
      "    (28): Conv2d(512, 512, kernel_size=(3, 3), stride=(1, 1), padding=(1, 1))\n",
      "    (29): ReLU(inplace=True)\n",
      "    (30): MaxPool2d(kernel_size=2, stride=2, padding=0, dilation=1, ceil_mode=False)\n",
      "  )\n",
      "  (avgpool): AdaptiveAvgPool2d(output_size=(7, 7))\n",
      "  (classifier): Sequential(\n",
      "    (0): Linear(in_features=25088, out_features=4096, bias=True)\n",
      "    (1): ReLU(inplace=True)\n",
      "    (2): Dropout(p=0.5, inplace=False)\n",
      "    (3): Linear(in_features=4096, out_features=4096, bias=True)\n",
      "    (4): ReLU(inplace=True)\n",
      "    (5): Dropout(p=0.5, inplace=False)\n",
      "    (6): Linear(in_features=4096, out_features=1000, bias=True)\n",
      "  )\n",
      ")\n"
     ]
    }
   ],
   "source": [
    "#We use VGG-16 as a pretrained model to classify between teeth diseases.\n",
    "#load Pre-trained VGG16 model:\n",
    "model = models.vgg16(weights=models.VGG16_Weights.DEFAULT)\n",
    "print(model)"
   ]
  },
  {
   "cell_type": "code",
   "execution_count": 13,
   "id": "362718a6",
   "metadata": {},
   "outputs": [
    {
     "name": "stdout",
     "output_type": "stream",
     "text": [
      "VGG(\n",
      "  (features): Sequential(\n",
      "    (0): Conv2d(3, 64, kernel_size=(3, 3), stride=(1, 1), padding=(1, 1))\n",
      "    (1): ReLU(inplace=True)\n",
      "    (2): Conv2d(64, 64, kernel_size=(3, 3), stride=(1, 1), padding=(1, 1))\n",
      "    (3): ReLU(inplace=True)\n",
      "    (4): MaxPool2d(kernel_size=2, stride=2, padding=0, dilation=1, ceil_mode=False)\n",
      "    (5): Conv2d(64, 128, kernel_size=(3, 3), stride=(1, 1), padding=(1, 1))\n",
      "    (6): ReLU(inplace=True)\n",
      "    (7): Conv2d(128, 128, kernel_size=(3, 3), stride=(1, 1), padding=(1, 1))\n",
      "    (8): ReLU(inplace=True)\n",
      "    (9): MaxPool2d(kernel_size=2, stride=2, padding=0, dilation=1, ceil_mode=False)\n",
      "    (10): Conv2d(128, 256, kernel_size=(3, 3), stride=(1, 1), padding=(1, 1))\n",
      "    (11): ReLU(inplace=True)\n",
      "    (12): Conv2d(256, 256, kernel_size=(3, 3), stride=(1, 1), padding=(1, 1))\n",
      "    (13): ReLU(inplace=True)\n",
      "    (14): Conv2d(256, 256, kernel_size=(3, 3), stride=(1, 1), padding=(1, 1))\n",
      "    (15): ReLU(inplace=True)\n",
      "    (16): MaxPool2d(kernel_size=2, stride=2, padding=0, dilation=1, ceil_mode=False)\n",
      "    (17): Conv2d(256, 512, kernel_size=(3, 3), stride=(1, 1), padding=(1, 1))\n",
      "    (18): ReLU(inplace=True)\n",
      "    (19): Conv2d(512, 512, kernel_size=(3, 3), stride=(1, 1), padding=(1, 1))\n",
      "    (20): ReLU(inplace=True)\n",
      "    (21): Conv2d(512, 512, kernel_size=(3, 3), stride=(1, 1), padding=(1, 1))\n",
      "    (22): ReLU(inplace=True)\n",
      "    (23): MaxPool2d(kernel_size=2, stride=2, padding=0, dilation=1, ceil_mode=False)\n",
      "    (24): Conv2d(512, 512, kernel_size=(3, 3), stride=(1, 1), padding=(1, 1))\n",
      "    (25): ReLU(inplace=True)\n",
      "    (26): Conv2d(512, 512, kernel_size=(3, 3), stride=(1, 1), padding=(1, 1))\n",
      "    (27): ReLU(inplace=True)\n",
      "    (28): Conv2d(512, 512, kernel_size=(3, 3), stride=(1, 1), padding=(1, 1))\n",
      "    (29): ReLU(inplace=True)\n",
      "    (30): MaxPool2d(kernel_size=2, stride=2, padding=0, dilation=1, ceil_mode=False)\n",
      "  )\n",
      "  (avgpool): AdaptiveAvgPool2d(output_size=(7, 7))\n",
      "  (classifier): Sequential(\n",
      "    (0): Linear(in_features=25088, out_features=4096, bias=True)\n",
      "    (1): ReLU(inplace=True)\n",
      "    (2): Dropout(p=0.5, inplace=False)\n",
      "    (3): Linear(in_features=4096, out_features=4096, bias=True)\n",
      "    (4): ReLU(inplace=True)\n",
      "    (5): Dropout(p=0.5, inplace=False)\n",
      "    (6): Linear(in_features=4096, out_features=7, bias=True)\n",
      "  )\n",
      ")\n"
     ]
    }
   ],
   "source": [
    "#Replace the classifier of VGG16 model:\n",
    "model.classifier[6] = nn.Linear(in_features = 4096, out_features = 7)\n",
    "model = model.to(device)\n",
    "#After APDUTINGG\n",
    "print(model)\n",
    "criterion = nn.CrossEntropyLoss()\n",
    "optimizer = optim.Adam(model.classifier.parameters(), lr=0.001)"
   ]
  },
  {
   "cell_type": "code",
   "execution_count": 14,
   "id": "61cf82c0",
   "metadata": {},
   "outputs": [],
   "source": [
    "#we freeze the feature layers and train only classifier layers:\n",
    "for param in model.parameters():\n",
    "    param.requires_grad  = False\n",
    "#then enable classifier layers to be trainable layers:\n",
    "for param in model.classifier.parameters():\n",
    "    param.requires_grad = True"
   ]
  },
  {
   "cell_type": "code",
   "execution_count": 15,
   "id": "ad1b58c8",
   "metadata": {},
   "outputs": [],
   "source": [
    "#convert the training to a function:\n",
    "def train(  model,\n",
    "            optimizer,\n",
    "            criterion,\n",
    "            device,\n",
    "            dataset_loader,\n",
    "            val_loader,\n",
    "            epochs_,\n",
    "            finished_epochs,\n",
    "            PATH\n",
    "        ):\n",
    "    #training procedure:\n",
    "    history = defaultdict(list)\n",
    "    start_time = time.time()\n",
    "    #for long training peroids:\n",
    "    #if the training intruppted because the session time is gone or any other problem\n",
    "    epochs = epochs_ - finished_epochs\n",
    "    current_epoch = finished_epochs\n",
    "    print(\"The training is strating from epoch: \",current_epoch)\n",
    "    print(\"**************************************\")\n",
    "    #when we need to save the model weights for learning for many times not one time\n",
    "    patience = 15\n",
    "    counter = 0\n",
    "    best_val_loss = float('inf')\n",
    "    for epoch in range(epochs):\n",
    "        loss_per_epoch = 0\n",
    "        Acc_train = 0\n",
    "        Acc_val = 0\n",
    "        for feature , labels in train_loader:\n",
    "            #to GPU\n",
    "            epoch_start_time = time.time()\n",
    "            feature, labels = feature.to(device), labels.to(device)\n",
    "            # forward\n",
    "            logits= model(feature)\n",
    "            # calculate loss fn\n",
    "            loss = criterion(logits, labels)\n",
    "            loss_per_epoch += loss.item()\n",
    "            Acc_train += (logits.argmax(dim =1) == labels).sum().item() / len(labels)\n",
    "            # reset gradients\n",
    "            optimizer.zero_grad()\n",
    "            # calculate gradients\n",
    "            loss.backward()\n",
    "            # update weights\n",
    "            optimizer.step()\n",
    "        \n",
    "        #UserWarning: Using a target size (labels)(torch.Size([64])) that is different to the input size (y_predict)(torch.Size([64, 1])). This will likely lead to incorrect results due to broadcasting. Please ensure they have the same size.\n",
    "        # warning that make results wrong\n",
    "        loss_per_epoch /= len(train_loader)\n",
    "        Acc_train /= len(train_loader)\n",
    "        loss_per_epoch /= len(train_loader)\n",
    "        history['train_loss'].append(loss_per_epoch)\n",
    "        history['train_acc'].append(Acc_train)\n",
    "        # validation Check\n",
    "        with torch.no_grad():\n",
    "            validation_loss = 0\n",
    "            for x_valid , y_valid in val_loader:\n",
    "                x_valid, y_valid = x_valid.to(device), y_valid.to(device)\n",
    "                logits = model(x_valid)\n",
    "                loss = criterion(logits, y_valid)\n",
    "                validation_loss += loss.item()\n",
    "                Acc_val += (logits.argmax(dim = 1) == y_valid).sum().item() / len(y_valid)\n",
    "            validation_loss /= len(val_loader)\n",
    "            Acc_val /= len(val_loader)\n",
    "            #checking for Early Stopping:\n",
    "            if validation_loss < best_val_loss:#this true when validation loss is always decreases\n",
    "                best_val_loss = validation_loss\n",
    "                counter = 0\n",
    "            else: #this will happen when validation loss increases or remain the same\n",
    "                counter += 1\n",
    "                if counter >= patience:\n",
    "                    print(\"Early Stopping\")\n",
    "                    #save weights\n",
    "                    #torch.save(estimator.state_dict(), PATH + 'model_weights.pth')\n",
    "                    #pickle.dump(history,open(PATH+'history.pkl','wb') )\n",
    "                    return history\n",
    "            history['val_loss'].append(validation_loss)\n",
    "            history['val_acc'].append(Acc_val)\n",
    "            current_epoch += 1\n",
    "            #if epoch %10 ==0:\n",
    "            #save weights\n",
    "                #finished_epochs = current_epoch\n",
    "                #we need to save finished_epochs:\n",
    "                #pickle.dump(finished_epochs, open(PATH + 'finished_epochs.pkl', 'wb'))#save object\n",
    "                #pickle.dump(history,open(PATH+'history.pkl','wb') )#save history\n",
    "                #torch.save(estimator.state_dict(), PATH + 'model_weights.pth')\n",
    "        print(f\"epoch:{current_epoch}, loss_Train: {loss_per_epoch:0.3f} ,Acc_train: {Acc_train * 100:0.3f}, loss_Validation: {validation_loss}, Acc_valid:{Acc_val * 100:0.3f}\", end=' ')\n",
    "        print(f\"Time Elapsed: {(time.time() - epoch_start_time)/60 :0.2f} min\")\n",
    "    print(f\"Total Time Elapsed:  {(time.time() - start_time)/60 :0.2f} min\")\n",
    "    return history\n"
   ]
  },
  {
   "cell_type": "code",
   "execution_count": 16,
   "id": "e9c35157",
   "metadata": {},
   "outputs": [
    {
     "name": "stdout",
     "output_type": "stream",
     "text": [
      "The training is strating from epoch:  0\n",
      "**************************************\n",
      "epoch:1, loss_Train: 0.036 ,Acc_train: 32.776, loss_Validation: 1.2567795024198645, Acc_valid:50.919 Time Elapsed: 1.23 min\n",
      "epoch:2, loss_Train: 0.025 ,Acc_train: 53.440, loss_Validation: 0.9796281018677879, Acc_valid:64.982 Time Elapsed: 1.23 min\n",
      "epoch:3, loss_Train: 0.021 ,Acc_train: 62.847, loss_Validation: 0.8904960926841287, Acc_valid:70.312 Time Elapsed: 1.24 min\n",
      "epoch:4, loss_Train: 0.018 ,Acc_train: 68.852, loss_Validation: 0.9355491224457236, Acc_valid:70.221 Time Elapsed: 1.24 min\n",
      "epoch:5, loss_Train: 0.018 ,Acc_train: 69.345, loss_Validation: 0.7760070898186635, Acc_valid:72.702 Time Elapsed: 1.19 min\n",
      "epoch:6, loss_Train: 0.016 ,Acc_train: 72.900, loss_Validation: 0.6188989272615051, Acc_valid:78.309 Time Elapsed: 1.24 min\n",
      "epoch:7, loss_Train: 0.015 ,Acc_train: 74.766, loss_Validation: 0.7204663775114836, Acc_valid:79.044 Time Elapsed: 1.28 min\n",
      "epoch:8, loss_Train: 0.015 ,Acc_train: 75.476, loss_Validation: 0.5798686941099518, Acc_valid:80.515 Time Elapsed: 1.31 min\n",
      "epoch:9, loss_Train: 0.013 ,Acc_train: 78.920, loss_Validation: 0.5720275613737826, Acc_valid:81.618 Time Elapsed: 1.30 min\n",
      "epoch:10, loss_Train: 0.014 ,Acc_train: 77.279, loss_Validation: 0.7057338387650602, Acc_valid:78.952 Time Elapsed: 1.32 min\n",
      "epoch:11, loss_Train: 0.013 ,Acc_train: 78.418, loss_Validation: 0.46338195988338315, Acc_valid:84.926 Time Elapsed: 1.33 min\n",
      "epoch:12, loss_Train: 0.012 ,Acc_train: 80.531, loss_Validation: 0.6689176800992915, Acc_valid:83.364 Time Elapsed: 1.22 min\n",
      "epoch:13, loss_Train: 0.012 ,Acc_train: 81.750, loss_Validation: 0.4495555077579304, Acc_valid:88.051 Time Elapsed: 1.37 min\n",
      "epoch:14, loss_Train: 0.013 ,Acc_train: 79.853, loss_Validation: 0.3881668670191549, Acc_valid:88.419 Time Elapsed: 1.38 min\n",
      "epoch:15, loss_Train: 0.011 ,Acc_train: 82.572, loss_Validation: 0.3833920102038332, Acc_valid:88.143 Time Elapsed: 1.25 min\n",
      "epoch:16, loss_Train: 0.011 ,Acc_train: 84.143, loss_Validation: 0.31819338176180323, Acc_valid:90.349 Time Elapsed: 1.30 min\n",
      "epoch:17, loss_Train: 0.010 ,Acc_train: 83.920, loss_Validation: 0.34771756773047585, Acc_valid:89.338 Time Elapsed: 1.29 min\n",
      "epoch:18, loss_Train: 0.010 ,Acc_train: 84.566, loss_Validation: 0.4158293756053728, Acc_valid:87.868 Time Elapsed: 1.33 min\n",
      "epoch:19, loss_Train: 0.010 ,Acc_train: 85.004, loss_Validation: 0.4006295747068875, Acc_valid:90.165 Time Elapsed: 1.37 min\n",
      "epoch:20, loss_Train: 0.010 ,Acc_train: 85.378, loss_Validation: 0.5075983518241521, Acc_valid:88.051 Time Elapsed: 1.40 min\n",
      "Total Time Elapsed:  106.11 min\n"
     ]
    }
   ],
   "source": [
    "hist = train(\n",
    "            model = model,\n",
    "            optimizer = optimizer ,\n",
    "            criterion = criterion,\n",
    "            device = device,\n",
    "            dataset_loader = train_loader ,\n",
    "            val_loader = val_loader,\n",
    "            epochs_ = 20,\n",
    "            finished_epochs = 0,\n",
    "            PATH = None\n",
    ")\n"
   ]
  },
  {
   "cell_type": "code",
   "execution_count": 17,
   "id": "abee8c03",
   "metadata": {},
   "outputs": [],
   "source": [
    "def learning_curve(histroy = hist, graph = 'loss'):\n",
    "    #draw learing Curves:#losses\n",
    "    if graph == 'loss':\n",
    "        plt.plot(hist['train_loss'], label = 'train loss')\n",
    "        plt.plot(hist['val_acc'], label = 'valid loss')\n",
    "        plt.legend()\n",
    "        plt.grid(True)\n",
    "        plt.show()\n",
    "    if graph == 'ACC':\n",
    "        plt.plot(hist['train_acc'], label = 'train Acc')\n",
    "        plt.plot(hist['val_acc'], label = 'valid Acc')\n",
    "        plt.legend()\n",
    "        plt.grid(True)\n",
    "        plt.show()"
   ]
  },
  {
   "cell_type": "code",
   "execution_count": 18,
   "id": "b13c035d",
   "metadata": {},
   "outputs": [
    {
     "data": {
      "image/png": "[encoded data removed]",
      "text/plain": [
       "<Figure size 640x480 with 1 Axes>"
      ]
     },
     "metadata": {},
     "output_type": "display_data"
    }
   ],
   "source": [
    "learning_curve(histroy = hist, graph = 'loss')"
   ]
  },
  {
   "cell_type": "code",
   "execution_count": 19,
   "id": "691de23e",
   "metadata": {},
   "outputs": [
    {
     "data": {
      "image/png": "[encoded data removed]",
      "text/plain": [
       "<Figure size 640x480 with 1 Axes>"
      ]
     },
     "metadata": {},
     "output_type": "display_data"
    }
   ],
   "source": [
    "learning_curve(histroy = hist, graph = 'ACC')"
   ]
  },
  {
   "cell_type": "code",
   "execution_count": 21,
   "id": "6e14c115",
   "metadata": {},
   "outputs": [],
   "source": [
    "#test data to measure the performance of neural network\n",
    "y_true = []\n",
    "y_pred = []\n",
    "with torch.no_grad():\n",
    "    for features, target in test_loader:\n",
    "      features, labels = features.to(device), target.to(device)\n",
    "      logits= model(features)\n",
    "      y_true.extend(target.cpu().numpy())#convert from pytorch to numpy\n",
    "      y_pred.extend(logits.argmax(dim=1).cpu().numpy())"
   ]
  },
  {
   "cell_type": "code",
   "execution_count": 22,
   "id": "a52e4fa3",
   "metadata": {},
   "outputs": [],
   "source": [
    "\n",
    "from sklearn.metrics import accuracy_score, classification_report, confusion_matrix\n",
    "from seaborn import heatmap\n",
    "labels = list (classes_info.keys())"
   ]
  },
  {
   "cell_type": "code",
   "execution_count": 23,
   "id": "da06bc9e",
   "metadata": {},
   "outputs": [
    {
     "data": {
      "text/plain": [
       "['CaS', 'CoS', 'Gum', 'MC', 'OC', 'OLP', 'OT']"
      ]
     },
     "execution_count": 23,
     "metadata": {},
     "output_type": "execute_result"
    }
   ],
   "source": [
    "labels"
   ]
  },
  {
   "cell_type": "code",
   "execution_count": 24,
   "id": "d8a35a7c",
   "metadata": {},
   "outputs": [
    {
     "data": {
      "image/png": "[encoded data removed]",
      "text/plain": [
       "<Figure size 640x480 with 2 Axes>"
      ]
     },
     "metadata": {},
     "output_type": "display_data"
    }
   ],
   "source": [
    "cm = confusion_matrix(y_true ,y_pred)\n",
    "heatmap(cm, annot = True, fmt = 'd',\n",
    "        xticklabels=labels,\n",
    "        yticklabels = labels)\n",
    "plt.xlabel(\"Predicted\")\n",
    "plt.ylabel('Actual')\n",
    "plt.title(\"Confusion Matrix\")\n",
    "plt.show()"
   ]
  },
  {
   "cell_type": "code",
   "execution_count": 25,
   "id": "e0522779",
   "metadata": {},
   "outputs": [
    {
     "name": "stdout",
     "output_type": "stream",
     "text": [
      "Acc:  0.8472762645914397\n",
      "Classification report:\n",
      "                precision    recall  f1-score   support\n",
      "\n",
      "           0       0.79      0.97      0.87       160\n",
      "           1       1.00      0.79      0.88       149\n",
      "           2       0.95      0.86      0.90       120\n",
      "           3       0.73      0.94      0.82       180\n",
      "           4       0.73      0.81      0.77       108\n",
      "           5       0.91      0.72      0.80       180\n",
      "           6       0.97      0.83      0.90       131\n",
      "\n",
      "    accuracy                           0.85      1028\n",
      "   macro avg       0.87      0.85      0.85      1028\n",
      "weighted avg       0.87      0.85      0.85      1028\n",
      "\n"
     ]
    }
   ],
   "source": [
    "print(\"Acc: \", accuracy_score(y_true ,y_pred))\n",
    "print(\"Classification report:\\n \", classification_report(y_true ,y_pred))"
   ]
  },
  {
   "cell_type": "code",
   "execution_count": 26,
   "id": "1bd92609",
   "metadata": {},
   "outputs": [
    {
     "data": {
      "text/plain": [
       "torch.Size([4, 3, 256, 256])"
      ]
     },
     "execution_count": 26,
     "metadata": {},
     "output_type": "execute_result"
    }
   ],
   "source": [
    "features.shape"
   ]
  },
  {
   "cell_type": "code",
   "execution_count": 28,
   "id": "c8c14164",
   "metadata": {},
   "outputs": [],
   "source": [
    "\n",
    "model.eval()\n",
    "with torch.no_grad():\n",
    "    example_input = torch.randn(features.shape).to(device)\n",
    "    VGG_16_model = torch.jit.trace(model, example_input)"
   ]
  },
  {
   "cell_type": "code",
   "execution_count": 30,
   "id": "222d5977",
   "metadata": {},
   "outputs": [],
   "source": [
    "\n",
    "# Save the scripted model\n",
    "PATH = 'D:\\\\Cellula Technologies\\\\Project_2\\\\Estimators\\\\'\n",
    "VGG_16_model.save(PATH + \"VGG_16_model.pt\")\n",
    "     "
   ]
  }
 ],
 "metadata": {
  "kernelspec": {
   "display_name": "myenv",
   "language": "python",
   "name": "python3"
  },
  "language_info": {
   "codemirror_mode": {
    "name": "ipython",
    "version": 3
   },
   "file_extension": ".py",
   "mimetype": "text/x-python",
   "name": "python",
   "nbconvert_exporter": "python",
   "pygments_lexer": "ipython3",
   "version": "3.10.11"
  }
 },
 "nbformat": 4,
 "nbformat_minor": 5
}
